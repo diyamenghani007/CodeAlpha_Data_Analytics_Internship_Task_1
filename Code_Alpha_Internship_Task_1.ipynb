{
 "cells": [
  {
   "cell_type": "markdown",
   "id": "2cecbbba-8aec-4c19-bede-b987949c5a96",
   "metadata": {},
   "source": [
    "# What Skills Are Companies Looking For in Data Analysts?\n",
    "\n",
    "This project simulates a real-world job market analysis by scraping structured job listings from a public mock job board. While the data is fictional, the scraping, filtering, and analysis process mirrors how you would approach a real job site like LinkedIn or AngelList.\n",
    "\n",
    "The goal is to:\n",
    "-> Identify the most commonly requested tools and technologies (Python, SQL, Excel, Tableau, Power BI)\n",
    "-> Analyze job demand across locations\n",
    "-> Compare internship and full-time role frequency\n",
    "-> Visualize insights using Python\n",
    "\n",
    "Tools Used: Python, BeautifulSoup, Requests, Pandas, Matplotlib\n",
    "\n",
    "Data Source: Publicly available mock listings from [Real Python's Fake Jobs Board](https://realpython.github.io/fake-jobs/)"
   ]
  },
  {
   "cell_type": "code",
   "execution_count": 4,
   "id": "4382bd30-f8cf-4a8f-8409-aaeba5bb4b58",
   "metadata": {},
   "outputs": [
    {
     "name": "stdout",
     "output_type": "stream",
     "text": [
      "Total job listings scraped: 100\n"
     ]
    },
    {
     "data": {
      "text/html": [
       "<div>\n",
       "<style scoped>\n",
       "    .dataframe tbody tr th:only-of-type {\n",
       "        vertical-align: middle;\n",
       "    }\n",
       "\n",
       "    .dataframe tbody tr th {\n",
       "        vertical-align: top;\n",
       "    }\n",
       "\n",
       "    .dataframe thead th {\n",
       "        text-align: right;\n",
       "    }\n",
       "</style>\n",
       "<table border=\"1\" class=\"dataframe\">\n",
       "  <thead>\n",
       "    <tr style=\"text-align: right;\">\n",
       "      <th></th>\n",
       "      <th>Title</th>\n",
       "      <th>Company</th>\n",
       "      <th>Location</th>\n",
       "      <th>Date</th>\n",
       "      <th>Apply Link</th>\n",
       "    </tr>\n",
       "  </thead>\n",
       "  <tbody>\n",
       "    <tr>\n",
       "      <th>0</th>\n",
       "      <td>Senior Python Developer</td>\n",
       "      <td>Payne, Roberts and Davis</td>\n",
       "      <td>Stewartbury, AA</td>\n",
       "      <td>2021-04-08</td>\n",
       "      <td>https://realpython.github.io/fake-jobs/jobs/se...</td>\n",
       "    </tr>\n",
       "    <tr>\n",
       "      <th>1</th>\n",
       "      <td>Energy engineer</td>\n",
       "      <td>Vasquez-Davidson</td>\n",
       "      <td>Christopherville, AA</td>\n",
       "      <td>2021-04-08</td>\n",
       "      <td>https://realpython.github.io/fake-jobs/jobs/en...</td>\n",
       "    </tr>\n",
       "    <tr>\n",
       "      <th>2</th>\n",
       "      <td>Legal executive</td>\n",
       "      <td>Jackson, Chambers and Levy</td>\n",
       "      <td>Port Ericaburgh, AA</td>\n",
       "      <td>2021-04-08</td>\n",
       "      <td>https://realpython.github.io/fake-jobs/jobs/le...</td>\n",
       "    </tr>\n",
       "    <tr>\n",
       "      <th>3</th>\n",
       "      <td>Fitness centre manager</td>\n",
       "      <td>Savage-Bradley</td>\n",
       "      <td>East Seanview, AP</td>\n",
       "      <td>2021-04-08</td>\n",
       "      <td>https://realpython.github.io/fake-jobs/jobs/fi...</td>\n",
       "    </tr>\n",
       "    <tr>\n",
       "      <th>4</th>\n",
       "      <td>Product manager</td>\n",
       "      <td>Ramirez Inc</td>\n",
       "      <td>North Jamieview, AP</td>\n",
       "      <td>2021-04-08</td>\n",
       "      <td>https://realpython.github.io/fake-jobs/jobs/pr...</td>\n",
       "    </tr>\n",
       "  </tbody>\n",
       "</table>\n",
       "</div>"
      ],
      "text/plain": [
       "                     Title                     Company              Location  \\\n",
       "0  Senior Python Developer    Payne, Roberts and Davis       Stewartbury, AA   \n",
       "1          Energy engineer            Vasquez-Davidson  Christopherville, AA   \n",
       "2          Legal executive  Jackson, Chambers and Levy   Port Ericaburgh, AA   \n",
       "3   Fitness centre manager              Savage-Bradley     East Seanview, AP   \n",
       "4          Product manager                 Ramirez Inc   North Jamieview, AP   \n",
       "\n",
       "         Date                                         Apply Link  \n",
       "0  2021-04-08  https://realpython.github.io/fake-jobs/jobs/se...  \n",
       "1  2021-04-08  https://realpython.github.io/fake-jobs/jobs/en...  \n",
       "2  2021-04-08  https://realpython.github.io/fake-jobs/jobs/le...  \n",
       "3  2021-04-08  https://realpython.github.io/fake-jobs/jobs/fi...  \n",
       "4  2021-04-08  https://realpython.github.io/fake-jobs/jobs/pr...  "
      ]
     },
     "execution_count": 4,
     "metadata": {},
     "output_type": "execute_result"
    }
   ],
   "source": [
    "import requests\n",
    "from bs4 import BeautifulSoup\n",
    "import pandas as pd\n",
    "\n",
    "#Fetching the page\n",
    "url = \"https://realpython.github.io/fake-jobs/\"\n",
    "response = requests.get(url)\n",
    "soup = BeautifulSoup(response.text, 'html.parser')\n",
    "\n",
    "#Parsing job listings\n",
    "job_elements = soup.find_all(\"div\", class_=\"card-content\")\n",
    "\n",
    "jobs = []\n",
    "for job in job_elements:\n",
    "    title = job.find(\"h2\", class_=\"title\").text.strip()\n",
    "    company = job.find(\"h3\", class_=\"company\").text.strip()\n",
    "    location = job.find(\"p\", class_=\"location\").text.strip()\n",
    "    date = job.find(\"time\")[\"datetime\"]\n",
    "    apply_link = job.find_all(\"a\")[-1][\"href\"] \n",
    "\n",
    "    jobs.append({\n",
    "        \"Title\": title,\n",
    "        \"Company\": company,\n",
    "        \"Location\": location,\n",
    "        \"Date\": date,\n",
    "        \"Apply Link\": apply_link\n",
    "    })\n",
    "\n",
    "#Converting to DataFrame\n",
    "df = pd.DataFrame(jobs)\n",
    "print(f\"Total job listings scraped: {len(df)}\")  \n",
    "df.to_csv(\"fake_job_listings.csv\", index=False)\n",
    "df.head()"
   ]
  },
  {
   "cell_type": "markdown",
   "id": "8acca0ef-76a4-470d-a9d7-a52bfe9049e2",
   "metadata": {},
   "source": [
    "#### Scraping Job Listings\n",
    "\n",
    "-> Used `requests` and `BeautifulSoup` to extract job listings from [realpython.github.io/fake-jobs](https://realpython.github.io/fake-jobs), an open-access site designed for practicing web scraping.\n",
    "\n",
    "-> Each listing includes: Title, Company, Location, Posting Date, Application Link\n",
    "\n",
    "-> The scraped results are stored in a pandas DataFrame and exported to `fake_job_listings.csv` for further analysis."
   ]
  },
  {
   "cell_type": "code",
   "execution_count": 15,
   "id": "5251eac8-55be-4f32-ab43-dfe15e1731f1",
   "metadata": {},
   "outputs": [
    {
     "data": {
      "text/html": [
       "<div>\n",
       "<style scoped>\n",
       "    .dataframe tbody tr th:only-of-type {\n",
       "        vertical-align: middle;\n",
       "    }\n",
       "\n",
       "    .dataframe tbody tr th {\n",
       "        vertical-align: top;\n",
       "    }\n",
       "\n",
       "    .dataframe thead th {\n",
       "        text-align: right;\n",
       "    }\n",
       "</style>\n",
       "<table border=\"1\" class=\"dataframe\">\n",
       "  <thead>\n",
       "    <tr style=\"text-align: right;\">\n",
       "      <th></th>\n",
       "      <th>Title</th>\n",
       "      <th>Company</th>\n",
       "      <th>Location</th>\n",
       "      <th>Date</th>\n",
       "      <th>Apply Link</th>\n",
       "    </tr>\n",
       "  </thead>\n",
       "  <tbody>\n",
       "    <tr>\n",
       "      <th>0</th>\n",
       "      <td>Senior Python Developer</td>\n",
       "      <td>Payne, Roberts and Davis</td>\n",
       "      <td>Stewartbury, AA</td>\n",
       "      <td>2021-04-08</td>\n",
       "      <td>https://realpython.github.io/fake-jobs/jobs/se...</td>\n",
       "    </tr>\n",
       "    <tr>\n",
       "      <th>10</th>\n",
       "      <td>Software Engineer (Python)</td>\n",
       "      <td>Garcia PLC</td>\n",
       "      <td>Ericberg, AE</td>\n",
       "      <td>2021-04-08</td>\n",
       "      <td>https://realpython.github.io/fake-jobs/jobs/so...</td>\n",
       "    </tr>\n",
       "    <tr>\n",
       "      <th>20</th>\n",
       "      <td>Python Programmer (Entry-Level)</td>\n",
       "      <td>Moss, Duncan and Allen</td>\n",
       "      <td>Port Sara, AE</td>\n",
       "      <td>2021-04-08</td>\n",
       "      <td>https://realpython.github.io/fake-jobs/jobs/py...</td>\n",
       "    </tr>\n",
       "    <tr>\n",
       "      <th>26</th>\n",
       "      <td>Data scientist</td>\n",
       "      <td>Thomas Group</td>\n",
       "      <td>Port Robertfurt, AA</td>\n",
       "      <td>2021-04-08</td>\n",
       "      <td>https://realpython.github.io/fake-jobs/jobs/da...</td>\n",
       "    </tr>\n",
       "    <tr>\n",
       "      <th>30</th>\n",
       "      <td>Python Programmer (Entry-Level)</td>\n",
       "      <td>Cooper and Sons</td>\n",
       "      <td>West Victor, AE</td>\n",
       "      <td>2021-04-08</td>\n",
       "      <td>https://realpython.github.io/fake-jobs/jobs/py...</td>\n",
       "    </tr>\n",
       "  </tbody>\n",
       "</table>\n",
       "</div>"
      ],
      "text/plain": [
       "                              Title                   Company  \\\n",
       "0           Senior Python Developer  Payne, Roberts and Davis   \n",
       "10       Software Engineer (Python)                Garcia PLC   \n",
       "20  Python Programmer (Entry-Level)    Moss, Duncan and Allen   \n",
       "26                   Data scientist              Thomas Group   \n",
       "30  Python Programmer (Entry-Level)           Cooper and Sons   \n",
       "\n",
       "               Location        Date  \\\n",
       "0       Stewartbury, AA  2021-04-08   \n",
       "10         Ericberg, AE  2021-04-08   \n",
       "20        Port Sara, AE  2021-04-08   \n",
       "26  Port Robertfurt, AA  2021-04-08   \n",
       "30      West Victor, AE  2021-04-08   \n",
       "\n",
       "                                           Apply Link  \n",
       "0   https://realpython.github.io/fake-jobs/jobs/se...  \n",
       "10  https://realpython.github.io/fake-jobs/jobs/so...  \n",
       "20  https://realpython.github.io/fake-jobs/jobs/py...  \n",
       "26  https://realpython.github.io/fake-jobs/jobs/da...  \n",
       "30  https://realpython.github.io/fake-jobs/jobs/py...  "
      ]
     },
     "execution_count": 15,
     "metadata": {},
     "output_type": "execute_result"
    }
   ],
   "source": [
    "# Focusing on relevant job titles\n",
    "keywords = ['data', 'analyst', 'analytics', 'python', 'sql']\n",
    "\n",
    "filtered_df = df[df['Title'].str.lower().str.contains('|'.join(keywords))]\n",
    "filtered_df.head()"
   ]
  },
  {
   "cell_type": "markdown",
   "id": "dfa648a0-ebc9-44bb-bae9-4e8775989db6",
   "metadata": {},
   "source": [
    "#### Filtering Data-Related Roles\n",
    "\n",
    "To focus this project on data-related jobs, I filtered for listings containing keywords like `data`, `analyst`, `python`, `sql`, `excel`.\n",
    "This step simulates narrowing down relevant jobs from a broader pool."
   ]
  },
  {
   "cell_type": "code",
   "execution_count": 21,
   "id": "c4b0bb3f-0103-4d7e-9734-97e4fd544262",
   "metadata": {},
   "outputs": [
    {
     "data": {
      "text/html": [
       "<div>\n",
       "<style scoped>\n",
       "    .dataframe tbody tr th:only-of-type {\n",
       "        vertical-align: middle;\n",
       "    }\n",
       "\n",
       "    .dataframe tbody tr th {\n",
       "        vertical-align: top;\n",
       "    }\n",
       "\n",
       "    .dataframe thead th {\n",
       "        text-align: right;\n",
       "    }\n",
       "</style>\n",
       "<table border=\"1\" class=\"dataframe\">\n",
       "  <thead>\n",
       "    <tr style=\"text-align: right;\">\n",
       "      <th></th>\n",
       "      <th>Title</th>\n",
       "      <th>Skills</th>\n",
       "    </tr>\n",
       "  </thead>\n",
       "  <tbody>\n",
       "    <tr>\n",
       "      <th>0</th>\n",
       "      <td>Senior Python Developer</td>\n",
       "      <td>[Python]</td>\n",
       "    </tr>\n",
       "    <tr>\n",
       "      <th>10</th>\n",
       "      <td>Software Engineer (Python)</td>\n",
       "      <td>[Python]</td>\n",
       "    </tr>\n",
       "    <tr>\n",
       "      <th>20</th>\n",
       "      <td>Python Programmer (Entry-Level)</td>\n",
       "      <td>[Python]</td>\n",
       "    </tr>\n",
       "    <tr>\n",
       "      <th>26</th>\n",
       "      <td>Data scientist</td>\n",
       "      <td>[Data]</td>\n",
       "    </tr>\n",
       "    <tr>\n",
       "      <th>30</th>\n",
       "      <td>Python Programmer (Entry-Level)</td>\n",
       "      <td>[Python]</td>\n",
       "    </tr>\n",
       "  </tbody>\n",
       "</table>\n",
       "</div>"
      ],
      "text/plain": [
       "                              Title    Skills\n",
       "0           Senior Python Developer  [Python]\n",
       "10       Software Engineer (Python)  [Python]\n",
       "20  Python Programmer (Entry-Level)  [Python]\n",
       "26                   Data scientist    [Data]\n",
       "30  Python Programmer (Entry-Level)  [Python]"
      ]
     },
     "execution_count": 21,
     "metadata": {},
     "output_type": "execute_result"
    }
   ],
   "source": [
    "def extract_skills(title):\n",
    "    skills = []\n",
    "    title = title.lower()\n",
    "    if 'python' in title:\n",
    "        skills.append('Python')\n",
    "    if 'sql' in title:\n",
    "        skills.append('SQL')\n",
    "    if 'excel' in title:\n",
    "        skills.append('Excel')\n",
    "    if 'tableau' in title:\n",
    "        skills.append('Tableau')\n",
    "    if 'power bi' in title:\n",
    "        skills.append('Power BI')\n",
    "    if 'analyst' in title:\n",
    "        skills.append('Analyst')\n",
    "    if 'data' in title:\n",
    "        skills.append('Data')\n",
    "    return skills\n",
    "\n",
    "filtered_df = filtered_df.copy()\n",
    "filtered_df['Skills'] = filtered_df['Title'].apply(extract_skills)\n",
    "filtered_df[['Title', 'Skills']].head()"
   ]
  },
  {
   "cell_type": "code",
   "execution_count": 19,
   "id": "04143da5-f895-4584-bad5-c50c25efe275",
   "metadata": {},
   "outputs": [
    {
     "data": {
      "text/plain": [
       "Data       2\n",
       "Python    10\n",
       "dtype: int64"
      ]
     },
     "execution_count": 19,
     "metadata": {},
     "output_type": "execute_result"
    }
   ],
   "source": [
    "from collections import Counter\n",
    "\n",
    "all_skills = sum(filtered_df['Skills'], [])\n",
    "skill_counts = Counter(all_skills)\n",
    "\n",
    "skill_series = pd.Series(skill_counts).sort_values(ascending=True)\n",
    "skill_series"
   ]
  },
  {
   "cell_type": "code",
   "execution_count": 20,
   "id": "f3f54886-351e-4500-9214-8a94c3319a99",
   "metadata": {},
   "outputs": [
    {
     "data": {
      "image/png": "[encoded data removed]",
      "text/plain": [
       "<Figure size 800x500 with 1 Axes>"
      ]
     },
     "metadata": {},
     "output_type": "display_data"
    }
   ],
   "source": [
    "import matplotlib.pyplot as plt\n",
    "\n",
    "plt.figure(figsize=(8, 5))\n",
    "skill_series.plot(kind='barh', color='skyblue')\n",
    "plt.title(\"Most Common Skills in Job Titles\")\n",
    "plt.xlabel(\"Number of Mentions\")\n",
    "plt.tight_layout()\n",
    "plt.show()"
   ]
  },
  {
   "cell_type": "markdown",
   "id": "38bddc00-cd19-4044-b7d2-2717b89b634a",
   "metadata": {},
   "source": [
    "#### Most Common Skills in Job Titles\n",
    "\n",
    "-> To understand which technical skills companies most often look for, I scanned job titles for key tools and keywords.\n",
    "\n",
    "-> This chart shows how often specific terms like `Python` and `Data` appear in job titles across all scraped listings.\n",
    "\n",
    "-> Even though the dataset is small, it reflects a pattern seen in real hiring: Python is mentioned significantly more often, suggesting it remains a must-know language for most data roles."
   ]
  },
  {
   "cell_type": "code",
   "execution_count": 23,
   "id": "26859b9b-584d-43c9-96ca-aba02b5a3209",
   "metadata": {},
   "outputs": [
    {
     "data": {
      "image/png": "[encoded data removed]",
      "text/plain": [
       "<Figure size 800x500 with 1 Axes>"
      ]
     },
     "metadata": {},
     "output_type": "display_data"
    }
   ],
   "source": [
    "plt.figure(figsize=(8, 5))\n",
    "location_counts.plot(kind='bar', color='coral')\n",
    "plt.title(\"Job Count by Location\")\n",
    "plt.xlabel(\"Location\")\n",
    "plt.ylabel(\"Number of Jobs\")\n",
    "plt.xticks(rotation=45)\n",
    "plt.tight_layout()\n",
    "plt.show()"
   ]
  },
  {
   "cell_type": "markdown",
   "id": "528a06ed-fc21-415f-824e-baae418cbdf8",
   "metadata": {},
   "source": [
    "#### Job Locations Overview\n",
    "\n",
    "-> Visualizes job count by city from the scraped data.\n",
    "\n",
    "-> Job postings are evenly distributed across locations.\n",
    "\n",
    "-> This helps identify hiring hotspots."
   ]
  },
  {
   "cell_type": "code",
   "execution_count": 24,
   "id": "520ee5af-897d-4bf5-85db-4b574eca1e49",
   "metadata": {},
   "outputs": [
    {
     "name": "stdout",
     "output_type": "stream",
     "text": [
      "Remote jobs found: 0\n"
     ]
    }
   ],
   "source": [
    "remote_jobs = filtered_df[filtered_df['Location'].str.lower().str.contains(\"remote\")]\n",
    "print(f\"Remote jobs found: {len(remote_jobs)}\")"
   ]
  },
  {
   "cell_type": "code",
   "execution_count": 25,
   "id": "4f2579da-ed06-4daf-9612-3097199c30eb",
   "metadata": {},
   "outputs": [
    {
     "data": {
      "text/html": [
       "<div>\n",
       "<style scoped>\n",
       "    .dataframe tbody tr th:only-of-type {\n",
       "        vertical-align: middle;\n",
       "    }\n",
       "\n",
       "    .dataframe tbody tr th {\n",
       "        vertical-align: top;\n",
       "    }\n",
       "\n",
       "    .dataframe thead th {\n",
       "        text-align: right;\n",
       "    }\n",
       "</style>\n",
       "<table border=\"1\" class=\"dataframe\">\n",
       "  <thead>\n",
       "    <tr style=\"text-align: right;\">\n",
       "      <th></th>\n",
       "      <th>Title</th>\n",
       "      <th>Role Type</th>\n",
       "    </tr>\n",
       "  </thead>\n",
       "  <tbody>\n",
       "    <tr>\n",
       "      <th>0</th>\n",
       "      <td>Senior Python Developer</td>\n",
       "      <td>Full-time</td>\n",
       "    </tr>\n",
       "    <tr>\n",
       "      <th>10</th>\n",
       "      <td>Software Engineer (Python)</td>\n",
       "      <td>Full-time</td>\n",
       "    </tr>\n",
       "    <tr>\n",
       "      <th>20</th>\n",
       "      <td>Python Programmer (Entry-Level)</td>\n",
       "      <td>Full-time</td>\n",
       "    </tr>\n",
       "    <tr>\n",
       "      <th>26</th>\n",
       "      <td>Data scientist</td>\n",
       "      <td>Full-time</td>\n",
       "    </tr>\n",
       "    <tr>\n",
       "      <th>30</th>\n",
       "      <td>Python Programmer (Entry-Level)</td>\n",
       "      <td>Full-time</td>\n",
       "    </tr>\n",
       "  </tbody>\n",
       "</table>\n",
       "</div>"
      ],
      "text/plain": [
       "                              Title  Role Type\n",
       "0           Senior Python Developer  Full-time\n",
       "10       Software Engineer (Python)  Full-time\n",
       "20  Python Programmer (Entry-Level)  Full-time\n",
       "26                   Data scientist  Full-time\n",
       "30  Python Programmer (Entry-Level)  Full-time"
      ]
     },
     "execution_count": 25,
     "metadata": {},
     "output_type": "execute_result"
    }
   ],
   "source": [
    "def label_role_type(title):\n",
    "    return 'Internship' if 'intern' in title.lower() else 'Full-time'\n",
    "\n",
    "filtered_df['Role Type'] = filtered_df['Title'].apply(label_role_type)\n",
    "filtered_df[['Title', 'Role Type']].head()"
   ]
  },
  {
   "cell_type": "code",
   "execution_count": 27,
   "id": "63e4743c-e520-4aaf-b662-bb34e811fad0",
   "metadata": {},
   "outputs": [
    {
     "data": {
      "image/png": "[encoded data removed]",
      "text/plain": [
       "<Figure size 300x300 with 1 Axes>"
      ]
     },
     "metadata": {},
     "output_type": "display_data"
    }
   ],
   "source": [
    "role_counts = filtered_df['Role Type'].value_counts()\n",
    "\n",
    "plt.figure(figsize=(3, 3))\n",
    "role_counts.plot(kind='pie', autopct='%1.1f%%', colors=['orange', 'lightgreen'])\n",
    "plt.title(\"Internship vs Full-time Roles\")\n",
    "plt.ylabel(\"\")\n",
    "plt.tight_layout()\n",
    "plt.show()"
   ]
  },
  {
   "cell_type": "markdown",
   "id": "cb1a02b9-6a08-4736-9040-8f747bda7bad",
   "metadata": {},
   "source": [
    "#### Role Type Analysis\n",
    "\n",
    "-> All roles are classified as either **Full-time** or **Internship** based on keywords in job titles.\n",
    "\n",
    "-> In this dataset, **100% of the roles are full-time**, with no internships detected.\n",
    "\n",
    "-> No job listings explicitly mentioned \"remote\" in the location field, so **remote opportunities were 0**.\n",
    "\n",
    "This analysis highlights that most listings in this sample reflect long-term, on-site roles, though real-world datasets often show more variation."
   ]
  },
  {
   "cell_type": "markdown",
   "id": "790e9289-05a9-46d9-bd32-4a9a163b969d",
   "metadata": {},
   "source": [
    "#### Task Summary\n",
    "\n",
    "-> Scraped job listings from the target webpage using BeautifulSoup.\n",
    "\n",
    "-> Exported the final dataset to `fake_job_listings.csv` for analysis.\n",
    "\n",
    "-> Extracted relevant fields: Job Title, Company, Location, Date Posted, and Apply Link.\n",
    "\n",
    "-> Stored data in a structured format using a pandas DataFrame.\n",
    "\n",
    "-> Learned how to navigate HTML tags and build a custom dataset for analysis."
   ]
  }
 ],
 "metadata": {
  "kernelspec": {
   "display_name": "Python [conda env:base] *",
   "language": "python",
   "name": "conda-base-py"
  },
  "language_info": {
   "codemirror_mode": {
    "name": "ipython",
    "version": 3
   },
   "file_extension": ".py",
   "mimetype": "text/x-python",
   "name": "python",
   "nbconvert_exporter": "python",
   "pygments_lexer": "ipython3",
   "version": "3.12.7"
  }
 },
 "nbformat": 4,
 "nbformat_minor": 5
}
